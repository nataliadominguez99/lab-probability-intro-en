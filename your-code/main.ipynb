{
 "cells": [
  {
   "cell_type": "markdown",
   "metadata": {},
   "source": [
    "# Probability"
   ]
  },
  {
   "cell_type": "markdown",
   "metadata": {},
   "source": [
    "## Challenge 1\n",
    "There is a box with 10 white balls, 12 red balls and 8 black balls. Calculate the probability of:\n",
    "* Taking a white ball out.\n",
    "* Taking a white ball on first extraction and a black ball out on second extraction without replacing the first one.\n",
    "* Taking a white ball on first extraction and a black ball out on second extraction replacing the first one.\n",
    "* Taking 3 balls and them being all different colours."
   ]
  },
  {
   "cell_type": "code",
   "execution_count": 37,
   "metadata": {},
   "outputs": [],
   "source": [
    "# Total numbers of balls in the box\n",
    "total_balls = 30\n",
    "\n",
    "# Number of each color of balls\n",
    "white_balls = 10\n",
    "red_balls = 12\n",
    "black_balls = 8"
   ]
  },
  {
   "cell_type": "code",
   "execution_count": 39,
   "metadata": {},
   "outputs": [
    {
     "name": "stdout",
     "output_type": "stream",
     "text": [
      "Probability of taking a white ball: 0.3333333333333333\n"
     ]
    }
   ],
   "source": [
    "# 1. Probability of taking a white ball out\n",
    "prob_white = white_balls / total_balls\n",
    "print(f\"Probability of taking a white ball: {prob_white}\")"
   ]
  },
  {
   "cell_type": "code",
   "execution_count": null,
   "metadata": {},
   "outputs": [
    {
     "name": "stdout",
     "output_type": "stream",
     "text": [
      "Probability of white first, then black without replacement: 0.09195402298850575\n"
     ]
    }
   ],
   "source": [
    "# 2.Probability of taking a white ball first and then a black ball without replacement\n",
    "\n",
    "prob_white_first = white_balls / total_balls\n",
    "\n",
    "# Then, draw a black ball from remaining 29 balls\n",
    "prob_black_second_without_replacement = black_balls / (total_balls - 1)\n",
    "\n",
    "# Combine the probabilities\n",
    "prob_white_then_black_without_replacement = prob_white_first * prob_black_second_without_replacement\n",
    "\n",
    "print(f\"Probability of white first, then black without replacement: {prob_white_then_black_without_replacement}\")"
   ]
  },
  {
   "cell_type": "code",
   "execution_count": 41,
   "metadata": {},
   "outputs": [
    {
     "name": "stdout",
     "output_type": "stream",
     "text": [
      "Probability of white first, then black with replacement: 0.08888888888888888\n"
     ]
    }
   ],
   "source": [
    "# 3. Probability of taking a white ball first and then a black ball with replacement\n",
    "\n",
    "prob_white_first = white_balls / total_balls\n",
    "\n",
    "# Since the ball is replaced, draw a black ball from the original 30 balls\n",
    "prob_black_second_with_replacement = black_balls / total_balls\n",
    "\n",
    "# Combine the probabilities\n",
    "prob_white_then_black_with_replacement = prob_white_first * prob_black_second_with_replacement\n",
    "\n",
    "print(f\"Probability of white first, then black with replacement: {prob_white_then_black_with_replacement}\")"
   ]
  },
  {
   "cell_type": "code",
   "execution_count": 45,
   "metadata": {},
   "outputs": [
    {
     "name": "stdout",
     "output_type": "stream",
     "text": [
      "Probability of taking 3 balls of all different colors: 0.23645320197044334\n"
     ]
    }
   ],
   "source": [
    "# 4. Probability of taking 3 balls, all different colors\n",
    "\n",
    "# Choose white first, then red, then black\n",
    "prob_white_first = white_balls / total_balls\n",
    "prob_red_second = red_balls / (total_balls - 1)\n",
    "prob_black_third = black_balls / (total_balls - 2)\n",
    "\n",
    "# There are 3! (6) permutations of the 3 different colors\n",
    "prob_all_different_colors = 6 * (prob_white_first * prob_red_second * prob_black_third)\n",
    "\n",
    "print(f\"Probability of taking 3 balls of all different colors: {prob_all_different_colors}\")"
   ]
  },
  {
   "cell_type": "markdown",
   "metadata": {},
   "source": [
    "## Challenge 2\n",
    "\n",
    "You want to go on picnic on Saturday. You hate rain, and would know to plan your weekend. To help you make a decision, you gather the following data about rainy days:\n",
    "\n",
    "* 40% of all days are cloudy.\n",
    "* About 50% of cloudy days are rainy. \n",
    "* About 20% of non-cloudy days are rainy.\n",
    "\n",
    "What is the chance of rain during next Saturday?"
   ]
  },
  {
   "cell_type": "code",
   "execution_count": 42,
   "metadata": {},
   "outputs": [
    {
     "name": "stdout",
     "output_type": "stream",
     "text": [
      "The chance of rain on Saturday is: 0.32\n"
     ]
    }
   ],
   "source": [
    "prob_cloudy = 0.40\n",
    "prob_rain_given_cloudy = 0.50\n",
    "prob_rain_given_not_cloudy = 0.20\n",
    "prob_not_cloudy = 1 - prob_cloudy\n",
    "\n",
    "# Total probability of rain using the law of total probability\n",
    "prob_rain = (prob_cloudy * prob_rain_given_cloudy) + (prob_not_cloudy * prob_rain_given_not_cloudy)\n",
    "\n",
    "print(f\"The chance of rain on Saturday is: {prob_rain:}\")"
   ]
  },
  {
   "cell_type": "markdown",
   "metadata": {},
   "source": [
    "## Challenge 3\n",
    "\n",
    "A and B are events of a probability such that $P(A) = 0.3$, $P(B) = 0.6$ and $P(A \\cap B) = 0.1$\n",
    "\n",
    "Which of the following statements are true?  \n",
    "**HINT: draw a big Venn Diagram by your side**  \n",
    "* $P(\\overline{A}) = 0.7$\n",
    "* $P(A \\cup B) = 0.6$\n",
    "* $P(A \\cap \\overline{B}) = 0.2$\n",
    "* $P(A \\cup \\overline{A}) = 1$  \n",
    "* $P(A \\cap (B \\cup \\overline{B})) = 0.4$\n",
    "* $P(\\overline{A} \\cap \\overline{B}) = 0.3$\n",
    "* $P(\\overline{A \\cap B}) = 0.9$"
   ]
  },
  {
   "cell_type": "markdown",
   "metadata": {},
   "source": [
    "- $P(\\overline{A}) = 0.7$\n",
    "- $(\\overline{A})$ is calculated as (1 - P(A)). \n",
    "- ($\\overline{A}$ = 1 - 0.3 = 0.7).\n",
    "- True."
   ]
  },
  {
   "cell_type": "markdown",
   "metadata": {},
   "source": [
    "- $P(A \\cup B) = 0.6$\n",
    "- ($P(A)$ + $P(B)$ - $P(A \\cap B))$.\n",
    "- $(P(A \\cup B)$ = 0.3 + 0.6 - 0.1 = 0.8).\n",
    "- False"
   ]
  },
  {
   "cell_type": "markdown",
   "metadata": {},
   "source": [
    "* $P(A \\cap \\overline{B}) = 0.2$\n",
    "- [$P(A \\cap \\overline{B})$ = $P(A)$ - $P(A \\cap B)$ = 0.3 - 0.1 = 0.2 ]\n",
    "- True."
   ]
  },
  {
   "cell_type": "markdown",
   "metadata": {},
   "source": [
    "* $P(A \\cup \\overline{A}) = 1$  \n",
    "- A union with its complement is the entire sample space, which is always 1.\n",
    "- True."
   ]
  },
  {
   "cell_type": "markdown",
   "metadata": {},
   "source": [
    "* $P(A \\cap (B \\cup \\overline{B})) = 0.4$\n",
    "- The event $(B \\cup \\overline{B})$ encompasses all outcomes, so $(A \\cap (B \\cup \\overline{B}))$ simplifies to $(A)$. Thus:\n",
    "- [$ P(A \\cap (B \\cup \\overline{B}))$ = $P(A)$ = 0.3 ]\n",
    "- False."
   ]
  },
  {
   "cell_type": "markdown",
   "metadata": {},
   "source": [
    "* $P(\\overline{A} \\cap \\overline{B}) = 0.3$\n",
    "- The probability of neither A nor B happening is calculated by subtracting from the union:\n",
    "- $[ P(\\overline{A} \\cap \\overline{B}) = 1 - P(A \\cup B) = 1 - 0.8 = 0.2 ]$\n",
    "-  False."
   ]
  },
  {
   "cell_type": "markdown",
   "metadata": {},
   "source": [
    "* $P(\\overline{A \\cap B}) = 0.9$\n",
    "- The probability of the complement of the intersection $(A \\cap B)$ is:\n",
    "- $[ P(\\overline{A \\cap B}) = 1 - P(A \\cap B) = 1 - 0.1 = 0.9 ]$\n",
    "- True."
   ]
  },
  {
   "cell_type": "markdown",
   "metadata": {},
   "source": [
    "## Challenge 4\n",
    "\n",
    " * If someone flies to China, the probability of getting Covid is 1%  \n",
    " * If someone flies to Italy, the probability of getting Covid is 20%  \n",
    "\n",
    "I roll 1 dice with numbers 1, 2, 3, 4, 5, 6:  \n",
    " * If 1: I fly to Italy\n",
    " * If not 1: I fly to China\n",
    "\n",
    "During my trip, I got Covid. What is the probability that I flew to China?"
   ]
  },
  {
   "cell_type": "code",
   "execution_count": 35,
   "metadata": {},
   "outputs": [
    {
     "name": "stdout",
     "output_type": "stream",
     "text": [
      "The probability that I flew to China given that I got Covid is: 0.20\n"
     ]
    }
   ],
   "source": [
    "# Given probabilities\n",
    "P_C_given_I = 0.20\n",
    "P_C_given_H = 0.01\n",
    "P_I = 1/6\n",
    "P_H = 5/6\n",
    "\n",
    "# Total probability of getting Covid\n",
    "P_C = (P_C_given_I * P_I) + (P_C_given_H * P_H)\n",
    "\n",
    "# Probability of having flown to China given that I got Covid\n",
    "P_H_given_C = (P_C_given_H * P_H) / P_C\n",
    "\n",
    "print(f\"The probability that I flew to China given that I got Covid is: {P_H_given_C:.2f}\")"
   ]
  },
  {
   "cell_type": "markdown",
   "metadata": {},
   "source": [
    "## BONUS\n",
    "\n",
    "You roll 2 dice. What is the probability that the sum of the numbers is 7? And 8? And 9? Then simulate 10000 times and draw a countplot."
   ]
  },
  {
   "cell_type": "markdown",
   "metadata": {},
   "source": [
    "your explanation here"
   ]
  },
  {
   "cell_type": "code",
   "execution_count": 36,
   "metadata": {},
   "outputs": [
    {
     "name": "stderr",
     "output_type": "stream",
     "text": [
      "C:\\Users\\naatt\\AppData\\Local\\Temp\\ipykernel_8824\\4141731821.py:16: FutureWarning: \n",
      "\n",
      "Passing `palette` without assigning `hue` is deprecated and will be removed in v0.14.0. Assign the `x` variable to `hue` and set `legend=False` for the same effect.\n",
      "\n",
      "  sns.countplot(x=sums, palette='viridis', order=range(2, 13))\n"
     ]
    },
    {
     "data": {
      "image/png": "[encoded data removed]",
      "text/plain": [
       "<Figure size 640x480 with 1 Axes>"
      ]
     },
     "metadata": {},
     "output_type": "display_data"
    }
   ],
   "source": [
    "import random\n",
    "import seaborn as sns\n",
    "import matplotlib.pyplot as plt\n",
    "\n",
    "# Simulation parameters\n",
    "rolls = 10000\n",
    "sums = []\n",
    "\n",
    "# Simulate dice rolls\n",
    "for _ in range(rolls):\n",
    "    die1 = random.randint(1, 6)\n",
    "    die2 = random.randint(1, 6)\n",
    "    sums.append(die1 + die2)\n",
    "\n",
    "# Plotting the results\n",
    "sns.countplot(x=sums, palette='viridis', order=range(2, 13))\n",
    "plt.title('Distribution of Sums from Rolling Two Dice (10,000 simulations)')\n",
    "plt.xlabel('Sum of Two Dice')\n",
    "plt.ylabel('Frequency')\n",
    "plt.show()"
   ]
  }
 ],
 "metadata": {
  "kernelspec": {
   "display_name": "base",
   "language": "python",
   "name": "python3"
  },
  "language_info": {
   "codemirror_mode": {
    "name": "ipython",
    "version": 3
   },
   "file_extension": ".py",
   "mimetype": "text/x-python",
   "name": "python",
   "nbconvert_exporter": "python",
   "pygments_lexer": "ipython3",
   "version": "3.13.5"
  },
  "toc": {
   "base_numbering": 1,
   "nav_menu": {},
   "number_sections": false,
   "sideBar": true,
   "skip_h1_title": false,
   "title_cell": "Table of Contents",
   "title_sidebar": "Contents",
   "toc_cell": false,
   "toc_position": {
    "height": "calc(100% - 180px)",
    "left": "10px",
    "top": "150px",
    "width": "296.475px"
   },
   "toc_section_display": true,
   "toc_window_display": false
  },
  "varInspector": {
   "cols": {
    "lenName": 16,
    "lenType": 16,
    "lenVar": 40
   },
   "kernels_config": {
    "python": {
     "delete_cmd_postfix": "",
     "delete_cmd_prefix": "del ",
     "library": "var_list.py",
     "varRefreshCmd": "print(var_dic_list())"
    },
    "r": {
     "delete_cmd_postfix": ") ",
     "delete_cmd_prefix": "rm(",
     "library": "var_list.r",
     "varRefreshCmd": "cat(var_dic_list()) "
    }
   },
   "types_to_exclude": [
    "module",
    "function",
    "builtin_function_or_method",
    "instance",
    "_Feature"
   ],
   "window_display": false
  }
 },
 "nbformat": 4,
 "nbformat_minor": 2
}
